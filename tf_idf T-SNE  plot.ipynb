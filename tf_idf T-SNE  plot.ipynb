{
 "cells": [
  {
   "cell_type": "code",
   "execution_count": 1,
   "metadata": {},
   "outputs": [
    {
     "name": "stdout",
     "output_type": "stream",
     "text": [
      "            Id   ProductId          UserId                      ProfileName  \\\n",
      "0            1  B001E4KFG0  A3SGXH7AUHU8GW                       delmartian   \n",
      "1            2  B00813GRG4  A1D87F6ZCVE5NK                           dll pa   \n",
      "2            3  B000LQOCH0   ABXLMWJIXXAIN  Natalia Corres \"Natalia Corres\"   \n",
      "3            4  B000UA0QIQ  A395BORC6FGVXV                             Karl   \n",
      "4            5  B006K2ZZ7K  A1UQRSCLF8GW1T    Michael D. Bigham \"M. Wassir\"   \n",
      "...        ...         ...             ...                              ...   \n",
      "525809  568450  B001EO7N10  A28KG5XORO54AY                 Lettie D. Carter   \n",
      "525810  568451  B003S1WTCU  A3I8AFVPEE8KI5                        R. Sawyer   \n",
      "525811  568452  B004I613EE  A121AA1GQV751Z                    pksd \"pk_007\"   \n",
      "525812  568453  B004I613EE   A3IBEVCTXKNOH          Kathy A. Welch \"katwel\"   \n",
      "525813  568454  B001LR2CU2  A3LGQPJCZVL9UC                         srfell17   \n",
      "\n",
      "        HelpfulnessNumerator  HelpfulnessDenominator     Score        Time  \\\n",
      "0                          1                       1  positive  1303862400   \n",
      "1                          0                       0  negative  1346976000   \n",
      "2                          1                       1  positive  1219017600   \n",
      "3                          3                       3  negative  1307923200   \n",
      "4                          0                       0  positive  1350777600   \n",
      "...                      ...                     ...       ...         ...   \n",
      "525809                     0                       0  positive  1299628800   \n",
      "525810                     0                       0  negative  1331251200   \n",
      "525811                     2                       2  positive  1329782400   \n",
      "525812                     1                       1  positive  1331596800   \n",
      "525813                     0                       0  positive  1338422400   \n",
      "\n",
      "                                   Summary  \\\n",
      "0                    Good Quality Dog Food   \n",
      "1                        Not as Advertised   \n",
      "2                    \"Delight\" says it all   \n",
      "3                           Cough Medicine   \n",
      "4                              Great taffy   \n",
      "...                                    ...   \n",
      "525809                 Will not do without   \n",
      "525810                        disappointed   \n",
      "525811            Perfect for our maltipoo   \n",
      "525812  Favorite Training and reward treat   \n",
      "525813                         Great Honey   \n",
      "\n",
      "                                                     Text  \n",
      "0       I have bought several of the Vitality canned d...  \n",
      "1       Product arrived labeled as Jumbo Salted Peanut...  \n",
      "2       This is a confection that has been around a fe...  \n",
      "3       If you are looking for the secret ingredient i...  \n",
      "4       Great taffy at a great price.  There was a wid...  \n",
      "...                                                   ...  \n",
      "525809  Great for sesame chicken..this is a good if no...  \n",
      "525810  I'm disappointed with the flavor. The chocolat...  \n",
      "525811  These stars are small, so you can give 10-15 o...  \n",
      "525812  These are the BEST treats for training and rew...  \n",
      "525813  I am very satisfied ,product is as advertised,...  \n",
      "\n",
      "[525814 rows x 10 columns]\n"
     ]
    }
   ],
   "source": [
    "import pandas as pd\n",
    "import numpy as np\n",
    "import matplotlib.pyplot as plt\n",
    "import seaborn as sns\n",
    "import nltk\n",
    "import string\n",
    "from sklearn.feature_extraction.text import TfidfTransformer\n",
    "from sklearn.feature_extraction.text import TfidfVectorizer\n",
    "from sklearn.feature_extraction.text import CountVectorizer\n",
    "import sqlite3\n",
    "con=sqlite3.connect('database.sqlite')\n",
    "filtered_data=pd.read_sql_query(\n",
    "\"\"\"\n",
    "    SELECT *\n",
    "    FROM Reviews\n",
    "    WHERE Score!=3\n",
    "    \"\"\",con\n",
    "            )\n",
    "def partition(x):\n",
    "    if x<3:\n",
    "        return 'negative'\n",
    "    return 'positive'\n",
    "\n",
    "actual_score=filtered_data['Score']\n",
    "positivenegative=actual_score.map(partition)\n",
    "filtered_data['Score']=positivenegative\n",
    "print(filtered_data)"
   ]
  },
  {
   "cell_type": "code",
   "execution_count": 2,
   "metadata": {},
   "outputs": [
    {
     "name": "stdout",
     "output_type": "stream",
     "text": [
      "            Id   ProductId          UserId                  ProfileName  \\\n",
      "138706  150524  0006641040   ACITT7DI6IDDL              shari zychinski   \n",
      "138688  150506  0006641040  A2IW4PEEKO2R0U                        Tracy   \n",
      "138689  150507  0006641040  A1S4A3IQ2MU7V4        sally sue \"sally sue\"   \n",
      "138690  150508  0006641040     AZGXZ2UUK6X  Catherine Hallberg \"(Kate)\"   \n",
      "138691  150509  0006641040  A3CMRKGE0P909G                       Teresa   \n",
      "...        ...         ...             ...                          ...   \n",
      "178145  193174  B009RSR8HO   A4P6AN2L435PV                       romarc   \n",
      "173675  188389  B009SF0TN6  A1L0GWGRK4BYPT                Bety Robinson   \n",
      "204727  221795  B009SR4OQ2  A32A6X5KCP7ARG                      sicamar   \n",
      "5259      5703  B009WSNWC4   AMP7K1O84DH1T                         ESTY   \n",
      "302474  327601  B009WVB40S  A3ME78KVX31T21                         K'la   \n",
      "\n",
      "        HelpfulnessNumerator  HelpfulnessDenominator     Score        Time  \\\n",
      "138706                     0                       0  positive   939340800   \n",
      "138688                     1                       1  positive  1194739200   \n",
      "138689                     1                       1  positive  1191456000   \n",
      "138690                     1                       1  positive  1076025600   \n",
      "138691                     3                       4  positive  1018396800   \n",
      "...                      ...                     ...       ...         ...   \n",
      "178145                     0                       0  positive  1350432000   \n",
      "173675                     0                       0  positive  1350518400   \n",
      "204727                     1                       1  positive  1350604800   \n",
      "5259                       0                       0  positive  1351209600   \n",
      "302474                     0                       0  positive  1351123200   \n",
      "\n",
      "                                           Summary  \\\n",
      "138706                   EVERY book is educational   \n",
      "138688  Love the book, miss the hard cover version   \n",
      "138689               chicken soup with rice months   \n",
      "138690      a good swingy rhythm for reading aloud   \n",
      "138691             A great way to learn the months   \n",
      "...                                            ...   \n",
      "178145                              LOVE!!  LOVE!!   \n",
      "173675       Amazing!! Great sauce for everything!   \n",
      "204727                               Awesome Taste   \n",
      "5259                                     DELICIOUS   \n",
      "302474                                      Tasty!   \n",
      "\n",
      "                                                     Text  \n",
      "138706  this witty little book makes my son laugh at l...  \n",
      "138688  I grew up reading these Sendak books, and watc...  \n",
      "138689  This is a fun way for children to learn their ...  \n",
      "138690  This is a great little book to read aloud- it ...  \n",
      "138691  This is a book of poetry about the months of t...  \n",
      "...                                                   ...  \n",
      "178145  LOVE, LOVE this sweetener!!  I use it in all m...  \n",
      "173675  You have to try this sauce to believe it! It s...  \n",
      "204727  I bought this Hazelnut Paste (Nocciola Spread)...  \n",
      "5259    Purchased this product at a local store in NY ...  \n",
      "302474  I purchased this to send to my son who's away ...  \n",
      "\n",
      "[364171 rows x 10 columns]\n"
     ]
    }
   ],
   "source": [
    "sorted_data=filtered_data.sort_values('ProductId',axis=0,ascending=True)\n",
    "final=sorted_data.drop_duplicates(subset={\"UserId\",\"ProfileName\",\"Time\",\"Text\"},keep=\"first\",inplace=False)\n",
    "final=final[final.HelpfulnessNumerator<=final.HelpfulnessDenominator]\n",
    "print(final)"
   ]
  },
  {
   "cell_type": "code",
   "execution_count": 3,
   "metadata": {},
   "outputs": [
    {
     "name": "stdout",
     "output_type": "stream",
     "text": [
      "            Id   ProductId          UserId                  ProfileName  \\\n",
      "138706  150524  0006641040   ACITT7DI6IDDL              shari zychinski   \n",
      "138688  150506  0006641040  A2IW4PEEKO2R0U                        Tracy   \n",
      "138689  150507  0006641040  A1S4A3IQ2MU7V4        sally sue \"sally sue\"   \n",
      "138690  150508  0006641040     AZGXZ2UUK6X  Catherine Hallberg \"(Kate)\"   \n",
      "138691  150509  0006641040  A3CMRKGE0P909G                       Teresa   \n",
      "...        ...         ...             ...                          ...   \n",
      "24517    26793  B00008DF91  A14BAM6KBGBWJ2                        aek15   \n",
      "261470  283442  B00008DFAM   A8XU5L1Z41NH6            E. James Robinson   \n",
      "261471  283443  B00008DFAM  A2C7SO0JI1WM54                         Rita   \n",
      "261472  283444  B00008DFAM  A243KU68DROO1Y                  W. Finnerty   \n",
      "397474  429772  B00008DFB0   A8ANCJ8KM4U9Q                   Shopaholic   \n",
      "\n",
      "        HelpfulnessNumerator  HelpfulnessDenominator     Score        Time  \\\n",
      "138706                     0                       0  positive   939340800   \n",
      "138688                     1                       1  positive  1194739200   \n",
      "138689                     1                       1  positive  1191456000   \n",
      "138690                     1                       1  positive  1076025600   \n",
      "138691                     3                       4  positive  1018396800   \n",
      "...                      ...                     ...       ...         ...   \n",
      "24517                     20                      22  negative  1179187200   \n",
      "261470                     1                       1  negative  1323648000   \n",
      "261471                     0                       0  positive  1325980800   \n",
      "261472                     1                       2  positive  1202860800   \n",
      "397474                     0                       0  positive  1341360000   \n",
      "\n",
      "                                           Summary  \\\n",
      "138706                   EVERY book is educational   \n",
      "138688  Love the book, miss the hard cover version   \n",
      "138689               chicken soup with rice months   \n",
      "138690      a good swingy rhythm for reading aloud   \n",
      "138691             A great way to learn the months   \n",
      "...                                            ...   \n",
      "24517              Beware the Meal Bugs - Forever!   \n",
      "261470                              What a CROCK!!   \n",
      "261471              Inexpensive great dry cat food   \n",
      "261472                             Purina Cat Chow   \n",
      "397474      Excellent supplement for my furbabies!   \n",
      "\n",
      "                                                     Text  \n",
      "138706  this witty little book makes my son laugh at l...  \n",
      "138688  I grew up reading these Sendak books, and watc...  \n",
      "138689  This is a fun way for children to learn their ...  \n",
      "138690  This is a great little book to read aloud- it ...  \n",
      "138691  This is a book of poetry about the months of t...  \n",
      "...                                                   ...  \n",
      "24517   Because this litter is a wheat product, it att...  \n",
      "261470  The BAG itself says \"$10.49\"!!! Regular list p...  \n",
      "261471  I was never a cat lover until our oldest one f...  \n",
      "261472  Prompt delivery for a product I use every day,...  \n",
      "397474  My Poms are predisposed to collapsing tracheas...  \n",
      "\n",
      "[2000 rows x 10 columns]\n"
     ]
    }
   ],
   "source": [
    "final=final.head(2000)\n",
    "print(final)"
   ]
  },
  {
   "cell_type": "code",
   "execution_count": 5,
   "metadata": {},
   "outputs": [
    {
     "name": "stdout",
     "output_type": "stream",
     "text": [
      "  (0, 45641)\t0.13409596963414963\n",
      "  (0, 58123)\t0.13409596963414963\n",
      "  (0, 1131)\t0.13409596963414963\n",
      "  (0, 65322)\t0.13409596963414963\n",
      "  (0, 6246)\t0.13409596963414963\n",
      "  (0, 78994)\t0.13409596963414963\n",
      "  (0, 7350)\t0.13409596963414963\n",
      "  (0, 13662)\t0.13409596963414963\n",
      "  (0, 63786)\t0.13409596963414963\n",
      "  (0, 37661)\t0.13409596963414963\n",
      "  (0, 7321)\t0.13409596963414963\n",
      "  (0, 79545)\t0.13409596963414963\n",
      "  (0, 48521)\t0.13409596963414963\n",
      "  (0, 43729)\t0.11855892742137634\n",
      "  (0, 60445)\t0.13409596963414963\n",
      "  (0, 22292)\t0.12722071892895265\n",
      "  (0, 36765)\t0.13409596963414963\n",
      "  (0, 78746)\t0.13409596963414963\n",
      "  (0, 40622)\t0.13409596963414963\n",
      "  (0, 58516)\t0.13409596963414963\n",
      "  (0, 63902)\t0.13409596963414963\n",
      "  (0, 22279)\t0.13409596963414963\n",
      "  (0, 10898)\t0.13409596963414963\n",
      "  (0, 58122)\t0.13409596963414963\n",
      "  (0, 43571)\t0.13409596963414963\n",
      "  :\t:\n",
      "  (1999, 16245)\t0.2048322422326894\n",
      "  (1999, 65815)\t0.2048322422326894\n",
      "  (1999, 19501)\t0.2048322422326894\n",
      "  (1999, 51601)\t0.2048322422326894\n",
      "  (1999, 44196)\t0.2048322422326894\n",
      "  (1999, 72126)\t0.2048322422326894\n",
      "  (1999, 14390)\t0.2048322422326894\n",
      "  (1999, 54255)\t0.2048322422326894\n",
      "  (1999, 53651)\t0.2048322422326894\n",
      "  (1999, 65814)\t0.2048322422326894\n",
      "  (1999, 51600)\t0.2048322422326894\n",
      "  (1999, 44195)\t0.2048322422326894\n",
      "  (1999, 72125)\t0.2048322422326894\n",
      "  (1999, 14389)\t0.2048322422326894\n",
      "  (1999, 54254)\t0.2048322422326894\n",
      "  (1999, 53650)\t0.2048322422326894\n",
      "  (1999, 21472)\t0.18109933510066306\n",
      "  (1999, 68526)\t0.16892573986873358\n",
      "  (1999, 34639)\t0.1658750336357418\n",
      "  (1999, 16235)\t0.1606774486183955\n",
      "  (1999, 21680)\t0.11426896754695487\n",
      "  (1999, 75288)\t0.07513792563678193\n",
      "  (1999, 21391)\t0.07362379590154386\n",
      "  (1999, 19352)\t0.08332132900404374\n",
      "  (1999, 79425)\t0.12306256454788449\n"
     ]
    }
   ],
   "source": [
    "tf_idf_vect=TfidfVectorizer(ngram_range=(1,2),analyzer='word',stop_words='english')\n",
    "final_tf_idf=tf_idf_vect.fit_transform(final['Text'].values)\n",
    "print(final_tf_idf)"
   ]
  },
  {
   "cell_type": "code",
   "execution_count": 6,
   "metadata": {},
   "outputs": [
    {
     "name": "stdout",
     "output_type": "stream",
     "text": [
      "[[0. 0. 0. ... 0. 0. 0.]\n",
      " [0. 0. 0. ... 0. 0. 0.]\n",
      " [0. 0. 0. ... 0. 0. 0.]\n",
      " ...\n",
      " [0. 0. 0. ... 0. 0. 0.]\n",
      " [0. 0. 0. ... 0. 0. 0.]\n",
      " [0. 0. 0. ... 0. 0. 0.]]\n"
     ]
    }
   ],
   "source": [
    "final_tf_idf=final_tf_idf.toarray()\n",
    "print(final_tf_idf)"
   ]
  },
  {
   "cell_type": "code",
   "execution_count": 8,
   "metadata": {},
   "outputs": [
    {
     "name": "stderr",
     "output_type": "stream",
     "text": [
      "C:\\Users\\aditya raj\\Anaconda3\\lib\\site-packages\\seaborn\\axisgrid.py:230: UserWarning: The `size` paramter has been renamed to `height`; please update your code.\n",
      "  warnings.warn(msg, UserWarning)\n"
     ]
    },
    {
     "data": {
      "text/plain": [
       "<function matplotlib.pyplot.show(*args, **kw)>"
      ]
     },
     "execution_count": 8,
     "metadata": {},
     "output_type": "execute_result"
    },
    {
     "data": {
      "image/png": "[encoded data removed]",
      "text/plain": [
       "<Figure size 511.75x432 with 1 Axes>"
      ]
     },
     "metadata": {
      "needs_background": "light"
     },
     "output_type": "display_data"
    }
   ],
   "source": [
    "from sklearn.manifold import TSNE\n",
    "model=TSNE(n_components=2,random_state=0,n_iter=5000,perplexity=30)\n",
    "tsne=model.fit_transform(final_tf_idf)\n",
    "tsne=np.vstack([tsne.T,final['Score']]).T\n",
    "tsne=pd.DataFrame(data=tsne,columns=(\"dim1\",\"dim2\",\"Score\"))\n",
    "sns.FacetGrid(tsne,hue=\"Score\",size=6).map(plt.scatter,'dim1','dim2').add_legend()\n",
    "plt.show"
   ]
  },
  {
   "cell_type": "code",
   "execution_count": null,
   "metadata": {},
   "outputs": [],
   "source": []
  }
 ],
 "metadata": {
  "kernelspec": {
   "display_name": "Python 3",
   "language": "python",
   "name": "python3"
  },
  "language_info": {
   "codemirror_mode": {
    "name": "ipython",
    "version": 3
   },
   "file_extension": ".py",
   "mimetype": "text/x-python",
   "name": "python",
   "nbconvert_exporter": "python",
   "pygments_lexer": "ipython3",
   "version": "3.7.4"
  }
 },
 "nbformat": 4,
 "nbformat_minor": 2
}
