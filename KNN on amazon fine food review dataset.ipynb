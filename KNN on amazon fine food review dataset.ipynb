{
 "cells": [
  {
   "cell_type": "code",
   "execution_count": 2,
   "metadata": {},
   "outputs": [
    {
     "name": "stdout",
     "output_type": "stream",
     "text": [
      "            Id   ProductId          UserId                      ProfileName  \\\n",
      "0            1  B001E4KFG0  A3SGXH7AUHU8GW                       delmartian   \n",
      "1            2  B00813GRG4  A1D87F6ZCVE5NK                           dll pa   \n",
      "2            3  B000LQOCH0   ABXLMWJIXXAIN  Natalia Corres \"Natalia Corres\"   \n",
      "3            4  B000UA0QIQ  A395BORC6FGVXV                             Karl   \n",
      "4            5  B006K2ZZ7K  A1UQRSCLF8GW1T    Michael D. Bigham \"M. Wassir\"   \n",
      "...        ...         ...             ...                              ...   \n",
      "525809  568450  B001EO7N10  A28KG5XORO54AY                 Lettie D. Carter   \n",
      "525810  568451  B003S1WTCU  A3I8AFVPEE8KI5                        R. Sawyer   \n",
      "525811  568452  B004I613EE  A121AA1GQV751Z                    pksd \"pk_007\"   \n",
      "525812  568453  B004I613EE   A3IBEVCTXKNOH          Kathy A. Welch \"katwel\"   \n",
      "525813  568454  B001LR2CU2  A3LGQPJCZVL9UC                         srfell17   \n",
      "\n",
      "        HelpfulnessNumerator  HelpfulnessDenominator     Score        Time  \\\n",
      "0                          1                       1  positive  1303862400   \n",
      "1                          0                       0  negative  1346976000   \n",
      "2                          1                       1  positive  1219017600   \n",
      "3                          3                       3  negative  1307923200   \n",
      "4                          0                       0  positive  1350777600   \n",
      "...                      ...                     ...       ...         ...   \n",
      "525809                     0                       0  positive  1299628800   \n",
      "525810                     0                       0  negative  1331251200   \n",
      "525811                     2                       2  positive  1329782400   \n",
      "525812                     1                       1  positive  1331596800   \n",
      "525813                     0                       0  positive  1338422400   \n",
      "\n",
      "                                   Summary  \\\n",
      "0                    Good Quality Dog Food   \n",
      "1                        Not as Advertised   \n",
      "2                    \"Delight\" says it all   \n",
      "3                           Cough Medicine   \n",
      "4                              Great taffy   \n",
      "...                                    ...   \n",
      "525809                 Will not do without   \n",
      "525810                        disappointed   \n",
      "525811            Perfect for our maltipoo   \n",
      "525812  Favorite Training and reward treat   \n",
      "525813                         Great Honey   \n",
      "\n",
      "                                                     Text  \n",
      "0       I have bought several of the Vitality canned d...  \n",
      "1       Product arrived labeled as Jumbo Salted Peanut...  \n",
      "2       This is a confection that has been around a fe...  \n",
      "3       If you are looking for the secret ingredient i...  \n",
      "4       Great taffy at a great price.  There was a wid...  \n",
      "...                                                   ...  \n",
      "525809  Great for sesame chicken..this is a good if no...  \n",
      "525810  I'm disappointed with the flavor. The chocolat...  \n",
      "525811  These stars are small, so you can give 10-15 o...  \n",
      "525812  These are the BEST treats for training and rew...  \n",
      "525813  I am very satisfied ,product is as advertised,...  \n",
      "\n",
      "[525814 rows x 10 columns]\n"
     ]
    }
   ],
   "source": [
    "import pandas as pd \n",
    "import matplotlib.pyplot as plt\n",
    "import numpy as np\n",
    "import sqlite3\n",
    "import seaborn as sns\n",
    "con = sqlite3.connect('database.sqlite')\n",
    "filtered_data=pd.read_sql_query(\n",
    "\"\"\"\n",
    "    SELECT*\n",
    "    FROM Reviews\n",
    "    WHERE Score!=3\n",
    "    \"\"\",con)\n",
    "def partition(x):\n",
    "    if x<3:\n",
    "        return 'negative'\n",
    "    return 'positive'\n",
    "\n",
    "actualscore=filtered_data['Score']\n",
    "positivenegative=actualscore.map(partition)\n",
    "filtered_data['Score']=positivenegative\n",
    "print(filtered_data)"
   ]
  },
  {
   "cell_type": "code",
   "execution_count": 6,
   "metadata": {},
   "outputs": [
    {
     "name": "stdout",
     "output_type": "stream",
     "text": [
      "            Id   ProductId          UserId                 ProfileName  \\\n",
      "138706  150524  0006641040   ACITT7DI6IDDL             shari zychinski   \n",
      "138683  150501  0006641040   AJ46FKXOVC7NR          Nicholas A Mesiano   \n",
      "417839  451856  B00004CXX9   AIUWLEQ1ADEG5            Elizabeth Medina   \n",
      "417859  451878  B00004CXX9  A344SMIA5JECGM             Vincent P. Ross   \n",
      "417838  451855  B00004CXX9   AJH6LUC1UT1ON    The Phantom of the Opera   \n",
      "...        ...         ...             ...                         ...   \n",
      "339378  367180  B0006U910O  A2RAZWCD8AKIY0                   M. Buford   \n",
      "433899  469222  B000AQFQC6  A33CIMYZ9032X7                  D. Tierney   \n",
      "32837    35743  B00020UGN4  A1GIJSR25ENRUR        Jonathan C. Fogelman   \n",
      "524611  567159  B0000AHA22  A2VQ6C6C4Q0K4G             N.K. \"buenamom\"   \n",
      "425776  460476  B0001CVDZI  A3JGPJ7UTGM1WJ  Mouth on Fire \"jerk lover\"   \n",
      "\n",
      "        HelpfulnessNumerator  HelpfulnessDenominator     Score        Time  \\\n",
      "138706                     0                       0  positive   939340800   \n",
      "138683                     2                       2  positive   940809600   \n",
      "417839                     0                       0  positive   944092800   \n",
      "417859                     1                       2  positive   944438400   \n",
      "417838                     0                       0  positive   946857600   \n",
      "...                      ...                     ...       ...         ...   \n",
      "339378                     1                      12  negative  1140912000   \n",
      "433899                     0                       0  positive  1140912000   \n",
      "32837                      3                       5  positive  1140998400   \n",
      "524611                     1                       1  positive  1140998400   \n",
      "425776                    11                      11  positive  1140998400   \n",
      "\n",
      "                                                  Summary  \\\n",
      "138706                          EVERY book is educational   \n",
      "138683  This whole series is great way to spend time w...   \n",
      "417839                               Entertainingl Funny!   \n",
      "417859                            A modern day fairy tale   \n",
      "417838                                         FANTASTIC!   \n",
      "...                                                   ...   \n",
      "339378                               Not the al-tuna-tive   \n",
      "433899                              Satisfying & low carb   \n",
      "32837                                        A GOOD VALUE   \n",
      "524611                     Best food to happen to my dog.   \n",
      "425776                                   authentic stuff!   \n",
      "\n",
      "                                                     Text  \n",
      "138706  this witty little book makes my son laugh at l...  \n",
      "138683  I can remember seeing the show when it aired o...  \n",
      "417839  Beetlejuice is a well written movie ..... ever...  \n",
      "417859  A twist of rumplestiskin captured on film, sta...  \n",
      "417838  Beetlejuice is an excellent and funny movie. K...  \n",
      "...                                                   ...  \n",
      "339378  I was hoping that it would be an alternative f...  \n",
      "433899  This was my first experience using Shirataki T...  \n",
      "32837   These are a very good and a lot cheaper than o...  \n",
      "524611  My Maltese was dianosed with \"sensitive stomac...  \n",
      "425776  This is the closest thing to being in Jamaica....  \n",
      "\n",
      "[2000 rows x 10 columns]\n"
     ]
    }
   ],
   "source": [
    "sorted_data=filtered_data.sort_values('Time',axis=0,ascending=True)\n",
    "final=sorted_data.drop_duplicates(subset={\"UserId\",\"ProfileName\",\"Time\",\"Text\"},keep=\"first\",inplace=False)\n",
    "final=final[final.HelpfulnessNumerator<=final.HelpfulnessDenominator]\n",
    "final=final.head(2000)\n",
    "print(final)"
   ]
  },
  {
   "cell_type": "code",
   "execution_count": 1,
   "metadata": {},
   "outputs": [
    {
     "ename": "NameError",
     "evalue": "name 'final' is not defined",
     "output_type": "error",
     "traceback": [
      "\u001b[1;31m---------------------------------------------------------------------------\u001b[0m",
      "\u001b[1;31mNameError\u001b[0m                                 Traceback (most recent call last)",
      "\u001b[1;32m<ipython-input-1-74313831916b>\u001b[0m in \u001b[0;36m<module>\u001b[1;34m\u001b[0m\n\u001b[0;32m      2\u001b[0m \u001b[1;32mfrom\u001b[0m \u001b[0msklearn\u001b[0m\u001b[1;33m.\u001b[0m\u001b[0mfeature_extraction\u001b[0m\u001b[1;33m.\u001b[0m\u001b[0mtext\u001b[0m \u001b[1;32mimport\u001b[0m \u001b[0mCountVectorizer\u001b[0m\u001b[1;33m\u001b[0m\u001b[1;33m\u001b[0m\u001b[0m\n\u001b[0;32m      3\u001b[0m \u001b[0mtf_idf_vect\u001b[0m\u001b[1;33m=\u001b[0m\u001b[0mTfidfVectorizer\u001b[0m\u001b[1;33m(\u001b[0m\u001b[0mngram_range\u001b[0m\u001b[1;33m=\u001b[0m\u001b[1;33m(\u001b[0m\u001b[1;36m2\u001b[0m\u001b[1;33m,\u001b[0m\u001b[1;36m2\u001b[0m\u001b[1;33m)\u001b[0m\u001b[1;33m,\u001b[0m\u001b[0manalyzer\u001b[0m\u001b[1;33m=\u001b[0m\u001b[1;34m'word'\u001b[0m\u001b[1;33m,\u001b[0m\u001b[0mstop_words\u001b[0m\u001b[1;33m=\u001b[0m\u001b[1;34m'english'\u001b[0m\u001b[1;33m)\u001b[0m\u001b[1;33m\u001b[0m\u001b[1;33m\u001b[0m\u001b[0m\n\u001b[1;32m----> 4\u001b[1;33m \u001b[0mfinal_tf_idf\u001b[0m\u001b[1;33m=\u001b[0m\u001b[0mtf_idf_vect\u001b[0m\u001b[1;33m.\u001b[0m\u001b[0mfit_transform\u001b[0m\u001b[1;33m(\u001b[0m\u001b[0mfinal\u001b[0m\u001b[1;33m[\u001b[0m\u001b[1;34m'Text'\u001b[0m\u001b[1;33m]\u001b[0m\u001b[1;33m.\u001b[0m\u001b[0mvalues\u001b[0m\u001b[1;33m)\u001b[0m\u001b[1;33m\u001b[0m\u001b[1;33m\u001b[0m\u001b[0m\n\u001b[0m\u001b[0;32m      5\u001b[0m \u001b[0mfinal_tf_idf\u001b[0m\u001b[1;33m=\u001b[0m\u001b[0mfinal_tf_idf\u001b[0m\u001b[1;33m.\u001b[0m\u001b[0mtoarray\u001b[0m\u001b[1;33m(\u001b[0m\u001b[1;33m)\u001b[0m\u001b[1;33m\u001b[0m\u001b[1;33m\u001b[0m\u001b[0m\n\u001b[0;32m      6\u001b[0m \u001b[0mprint\u001b[0m\u001b[1;33m(\u001b[0m\u001b[0mfinal_tf_idf\u001b[0m\u001b[1;33m)\u001b[0m\u001b[1;33m\u001b[0m\u001b[1;33m\u001b[0m\u001b[0m\n",
      "\u001b[1;31mNameError\u001b[0m: name 'final' is not defined"
     ]
    }
   ],
   "source": [
    "from sklearn.feature_extraction.text import TfidfVectorizer\n",
    "from sklearn.feature_extraction.text import CountVectorizer\n",
    "tf_idf_vect=TfidfVectorizer(ngram_range=(2,2),analyzer='word',stop_words='english')\n",
    "final_tf_idf=tf_idf_vect.fit_transform(final['Text'].values)\n",
    "final_tf_idf=final_tf_idf.toarray()\n",
    "print(final_tf_idf)\n",
    "print(final_tf_idf.shape)"
   ]
  },
  {
   "cell_type": "code",
   "execution_count": 8,
   "metadata": {},
   "outputs": [
    {
     "name": "stdout",
     "output_type": "stream",
     "text": [
      "5\n"
     ]
    }
   ],
   "source": [
    "X=final_tf_idf[:,:]\n",
    "y=final['Score']\n",
    "from sklearn.model_selection import cross_val_score\n",
    "from sklearn.metrics import accuracy_score\n",
    "from sklearn.model_selection import train_test_split\n",
    "X_train,X_test = np.split(X, [int(0.8*len(X))])\n",
    "y_train,y_test = np.split(y, [int(0.8*len(y))])\n",
    "X_train,X_cv = np.split(X_train, [int(0.75*len(X_train))])\n",
    "y_train,y_cv = np.split(y_train, [int(0.75*len(y_train))])\n",
    "from sklearn.neighbors import KNeighborsClassifier\n",
    "neighbors=np.arange(1,50,2)\n",
    "cv_scores=[]\n",
    "for i in neighbors:\n",
    "    knn=KNeighborsClassifier(n_neighbors=i)\n",
    "    scores=cross_val_score(knn,X_cv,y_cv,cv=10,scoring='accuracy')\n",
    "    cv_scores.append(scores.mean())\n",
    "    \n",
    "MSE=[1-x for x in cv_scores]\n",
    "optimal_k=neighbors[MSE.index(min(MSE))]\n",
    "print(optimal_k)\n",
    "    \n",
    "    \n",
    "    \n"
   ]
  },
  {
   "cell_type": "code",
   "execution_count": 10,
   "metadata": {},
   "outputs": [
    {
     "name": "stdout",
     "output_type": "stream",
     "text": [
      "79.0\n"
     ]
    }
   ],
   "source": [
    "optimal_knn=KNeighborsClassifier(n_neighbors=optimal_k)\n",
    "optimal_knn.fit(X_train,y_train)\n",
    "pred=optimal_knn.predict(X_test)\n",
    "acc=accuracy_score(y_test,pred)*100\n",
    "print(acc)"
   ]
  },
  {
   "cell_type": "code",
   "execution_count": null,
   "metadata": {},
   "outputs": [],
   "source": []
  }
 ],
 "metadata": {
  "kernelspec": {
   "display_name": "Python 3",
   "language": "python",
   "name": "python3"
  },
  "language_info": {
   "codemirror_mode": {
    "name": "ipython",
    "version": 3
   },
   "file_extension": ".py",
   "mimetype": "text/x-python",
   "name": "python",
   "nbconvert_exporter": "python",
   "pygments_lexer": "ipython3",
   "version": "3.7.4"
  }
 },
 "nbformat": 4,
 "nbformat_minor": 2
}
